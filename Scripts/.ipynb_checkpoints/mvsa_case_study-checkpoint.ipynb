{
 "cells": [
  {
   "cell_type": "markdown",
   "metadata": {},
   "source": [
    "We start off importing all necessary packages for the analysis"
   ]
  },
  {
   "cell_type": "code",
   "execution_count": null,
   "metadata": {},
   "outputs": [],
   "source": [
    "from MVS_A import *\n",
    "from rdkit import Chem\n",
    "from utils import get_ECFP, process_ranking\n",
    "import pandas as pd\n",
    "import numpy as np"
   ]
  },
  {
   "cell_type": "markdown",
   "metadata": {},
   "source": [
    "Our first step is to get a primary HTS screening dataset. In this example, I am picking \"GPCR.csv\", from the datasets we investigated in this study. Since I am executing this script from the \"Scripts\" folder in the GitHub repo, I specify the relative path to the dataset.  \n",
    "\n",
    "As a toy example, I am simulating the situation where everything with a Pubchem Activity Score (higher = better) above 50 is considered active. Our task is to catch compounds slightly below 50 that are the most likely to be active in confirmatory screens. To do so, I create an additional column using 40 as threshold"
   ]
  },
  {
   "cell_type": "code",
   "execution_count": null,
   "metadata": {},
   "outputs": [],
   "source": [
    "#Load the dataset\n",
    "dataset = pd.read_csv(\"../Datasets/GPCR.csv\", index_col=0)\n",
    "\n",
    "#Remove the useless columns for this analysis\n",
    "dataset = dataset.iloc[:, [0,2]]\n",
    "\n",
    "#Create the binary labels according to the thresholds\n",
    "dataset[\"Label50\"] = np.where(dataset[\"Score\"] > 50, 1, 0)\n",
    "dataset[\"Label40\"] = np.where(dataset[\"Score\"] > 40, 1, 0)\n",
    "print(f\"There are {dataset['Label50'].sum()} actives using 50 as threshold\")\n",
    "print(f\"There are {dataset['Label40'].sum()} actives using 50 as threshold\")\n",
    "print(f\"The delta is {dataset['Label40'].sum() - dataset['Label50'].sum()}\")"
   ]
  },
  {
   "cell_type": "markdown",
   "metadata": {},
   "source": [
    "Our next task is to get the rdkit molecule objects from the csv file and compute the input representation (ECFPs) and binary labels."
   ]
  },
  {
   "cell_type": "code",
   "execution_count": null,
   "metadata": {},
   "outputs": [],
   "source": [
    "#get smiles from dataframe\n",
    "smiles = list(dataset[\"SMILES\"])\n",
    "\n",
    "#get mol objects (I'm working on my own clean dataset, so I know for sure I don't have problematic mols)\n",
    "mols = [Chem.MolFromSmiles(x) for x in smiles]\n",
    "\n",
    "#get ecfps using the function in the github repo\n",
    "ecfp = get_ECFP(mols)\n",
    "\n",
    "#get the labels as numpy array\n",
    "y_40 = np.array(dataset[\"Label40\"])"
   ]
  },
  {
   "cell_type": "markdown",
   "metadata": {},
   "source": [
    "Now we have everything ready for using MVS-A. The steps below go as follows:  \n",
    "- Create the MVS-A object\n",
    "- Train the LightGBM model\n",
    "- Compute importance scores\n",
    "- Use the \"process_ranking\" function to convert the importance scores in labels  \n",
    "\n",
    "Let's discuss mode in depth the last step. The third step gives us the raw importance scores, but we would like binary labels (\"Is it a true positive or not?\"). To go from continuous scores to binary labels, we have to set a threshold. This threshold is used to do the following:  \n",
    "\n",
    "- Everything above that threshold percentile-wise is considered false positive\n",
    "- Everything below 100 - threshold percentile-wise is considered true positive.\n",
    "In this example, all samples having among the 10% smallest MVS-A scores are considered true positives."
   ]
  },
  {
   "cell_type": "code",
   "execution_count": null,
   "metadata": {},
   "outputs": [],
   "source": [
    "#make the MVS-A object\n",
    "AIC_finder = sample_analysis(\n",
    "                x = ecfp,              #input data i.e. ECFP\n",
    "                y = y_40,              #binary labels using the lower threshold\n",
    "                params = \"default\",    #could pass a dict with custom params (not recommended)\n",
    "                verbose = True,        #option to print updates on calculation status\n",
    "                seed = 0               #random seed for reproducibility\n",
    "                )\n",
    "\n",
    "#train base lightgbm model\n",
    "AIC_finder.get_model()\n",
    "\n",
    "#get raw sample importances\n",
    "vals = AIC_finder.get_importance()\n",
    "\n",
    "#convert the continuous scores into binary labels\n",
    "threshold = 90\n",
    "false_positives, true_positives = process_ranking(y_40, \n",
    "                                                  vals,\n",
    "                                                  percentile = threshold)"
   ]
  },
  {
   "cell_type": "markdown",
   "metadata": {},
   "source": [
    "Now that we have the labels, we can look up which compounds MVS-A considers highly likely to be true positives, since they have true_positives[i] == 1.  \n",
    "\n",
    "Next, we look up the indexes of all compounds that fall in our range of interest, so 40 < x < 50 in terms of Pubchem Activity Score.  \n",
    "\n",
    "Finally, we simply do the intersection between these indices to find out which compounds are in our activity range and are considered true positives by MVS-A. Once that is done, we package our findings in a pandas dataframe. \n",
    "\n",
    "If the intersection (idx_final) is empty, either you need to lower the activity threshold further (so maybe 35 or 30 instead of 40), or you need to lower the MVS-A threshold (80 instead of 90). Keep in mind that both options make the selection of compounds less desiderable.  \n",
    "\n",
    "The first option makes the retrieved compounds less active, which means that even though the signal in the primary screen is true, they might not be active enough to pass the activity threshold for the future dose-response measurmement.  \n",
    "\n",
    "The second option lowers the confidence of the MVS-A analysis, so you lower the precision at which MVS-A is able to identify true positives.  "
   ]
  },
  {
   "cell_type": "code",
   "execution_count": null,
   "metadata": {},
   "outputs": [],
   "source": [
    "#find the indices of the compounds that MVS-A considers true positives\n",
    "idx_mvsa = np.where(true_positives == 1)[0]\n",
    "\n",
    "#find the indices of the compounds in the desired activity range\n",
    "idx_score = np.where((dataset[\"Score\"] > 40) & (dataset[\"Score\"] < 50))[0]\n",
    "\n",
    "#get the intersection\n",
    "idx_final = np.intersect1d(idx_mvsa, idx_score)\n",
    "\n",
    "#make the dataframe to collect the results\n",
    "smiles_final = [smiles[x] for x in idx_final]\n",
    "mvsa_final = vals[idx_final]\n",
    "score_final = np.array(dataset[\"Score\"])[idx_final]\n",
    "dataframe_final = pd.DataFrame({\n",
    "    \"SMILES\": smiles_final,\n",
    "    \"MVS-A score\": mvsa_final,\n",
    "    \"Score\": score_final})\n",
    "\n",
    "print(dataframe_final)\n"
   ]
  }
 ],
 "metadata": {
  "kernelspec": {
   "display_name": "Python 3 (ipykernel)",
   "language": "python",
   "name": "python3"
  },
  "language_info": {
   "codemirror_mode": {
    "name": "ipython",
    "version": 3
   },
   "file_extension": ".py",
   "mimetype": "text/x-python",
   "name": "python",
   "nbconvert_exporter": "python",
   "pygments_lexer": "ipython3",
   "version": "3.8.10"
  }
 },
 "nbformat": 4,
 "nbformat_minor": 4
}
